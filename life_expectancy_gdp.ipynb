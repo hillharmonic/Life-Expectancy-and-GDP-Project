{
 "cells": [
  {
   "cell_type": "markdown",
   "metadata": {},
   "source": [
    "# Life Expectancy / GDP Portfolio Project\n"
   ]
  },
  {
   "cell_type": "markdown",
   "metadata": {},
   "source": [
    "## Scoping out the Data\n",
    "Below I scoped out the data I was working with to ensure that the columns we're all workable data-types, and looked at the data that I have in front of me.\n",
    "\n",
    "**Observations** \n",
    "- Data looks clean\n",
    "- 5 Countries\n",
    "- 16 Years of Data\n",
    "- 2 quantitative sets of data (Life Expectancy & GDP)"
   ]
  },
  {
   "cell_type": "code",
   "execution_count": 5,
   "metadata": {
    "scrolled": true
   },
   "outputs": [
    {
     "name": "stdout",
     "output_type": "stream",
     "text": [
      "Country                              object\n",
      "Year                                  int64\n",
      "Life expectancy at birth (years)    float64\n",
      "GDP                                 float64\n",
      "dtype: object\n"
     ]
    }
   ],
   "source": [
    "import pandas as pd\n",
    "\n",
    "df = pd.read_csv('all_data.csv')\n",
    "print(df.dtypes)\n",
    "#print(df.Country.values)\n",
    "#print(df.Year.values)"
   ]
  }
 ],
 "metadata": {
  "kernelspec": {
   "display_name": "Python 3",
   "language": "python",
   "name": "python3"
  },
  "language_info": {
   "codemirror_mode": {
    "name": "ipython",
    "version": 3
   },
   "file_extension": ".py",
   "mimetype": "text/x-python",
   "name": "python",
   "nbconvert_exporter": "python",
   "pygments_lexer": "ipython3",
   "version": "3.8.5"
  }
 },
 "nbformat": 4,
 "nbformat_minor": 4
}
